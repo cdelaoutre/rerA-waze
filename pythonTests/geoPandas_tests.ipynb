{
  "nbformat": 4,
  "nbformat_minor": 0,
  "metadata": {
    "colab": {
      "name": "geoPandas_tests.ipynb",
      "provenance": [],
      "collapsed_sections": [
        "jo8_emINZns_",
        "kkzRst5JZ3BD",
        "U5jHQMvWZ_M8",
        "KuMvobymaLG5"
      ],
      "authorship_tag": "ABX9TyPJ2tM713u+PHhWqi76osqF",
      "include_colab_link": true
    },
    "kernelspec": {
      "name": "python3",
      "display_name": "Python 3"
    }
  },
  "cells": [
    {
      "cell_type": "markdown",
      "metadata": {
        "id": "view-in-github",
        "colab_type": "text"
      },
      "source": [
        "<a href=\"https://colab.research.google.com/github/cdelaoutre/rerA-waze/blob/master/geoPandas_tests.ipynb\" target=\"_parent\"><img src=\"https://colab.research.google.com/assets/colab-badge.svg\" alt=\"Open In Colab\"/></a>"
      ]
    },
    {
      "cell_type": "markdown",
      "metadata": {
        "id": "jo8_emINZns_",
        "colab_type": "text"
      },
      "source": [
        "### Imports ###"
      ]
    },
    {
      "cell_type": "code",
      "metadata": {
        "id": "RJsEAR5JJT51",
        "colab_type": "code",
        "colab": {}
      },
      "source": [
        "# install libs\n",
        "!pip install geopandas\n",
        "# imports\n",
        "import geopandas as gpd\n",
        "import requests\n",
        "import zipfile\n",
        "import io\n",
        "import matplotlib.pyplot as plt\n",
        "\n",
        "from shapely.geometry import Point"
      ],
      "execution_count": null,
      "outputs": []
    },
    {
      "cell_type": "markdown",
      "metadata": {
        "id": "kkzRst5JZ3BD",
        "colab_type": "text"
      },
      "source": [
        "### Load IDF traces ###"
      ]
    },
    {
      "cell_type": "code",
      "metadata": {
        "id": "kW9XrhJMIVp2",
        "colab_type": "code",
        "colab": {
          "base_uri": "https://localhost:8080/",
          "height": 88
        },
        "outputId": "6e113971-dff4-48e9-e172-cf62abd6e641"
      },
      "source": [
        "#https://medium.com/@loldja/reading-shapefile-zips-from-a-url-in-python-3-93ea8d727856\n",
        "url = 'https://github.com/cdelaoutre/rerA-waze/raw/master/data/traces-du-reseau-ferre-idf.zip'\n",
        "local_path = 'tmp/'\n",
        "print('Downloading shapefile...')\n",
        "r = requests.get(url)\n",
        "z = zipfile.ZipFile(io.BytesIO(r.content))\n",
        "print(\"Done\")\n",
        "z.extractall(path=local_path) # extract to folder\n",
        "filenames = [y for y in sorted(z.namelist()) for ending in ['dbf', 'prj', 'shp', 'shx'] if y.endswith(ending)] \n",
        "print(filenames)\n",
        "\n",
        "dbf, prj, shp, shx = [filename for filename in filenames]\n",
        "lines = gpd.read_file(local_path + shp)\n",
        "print(\"Shape of the dataframe: {}\".format(lines.shape))\n",
        "print(\"Projection of dataframe: {}\".format(lines.crs))"
      ],
      "execution_count": 2,
      "outputs": [
        {
          "output_type": "stream",
          "text": [
            "Downloading shapefile...\n",
            "Done\n",
            "['traces-du-reseau-ferre-idf.dbf', 'traces-du-reseau-ferre-idf.prj', 'traces-du-reseau-ferre-idf.shp', 'traces-du-reseau-ferre-idf.shx']\n"
          ],
          "name": "stdout"
        }
      ]
    },
    {
      "cell_type": "code",
      "metadata": {
        "id": "uoC0K2M6Z1FG",
        "colab_type": "code",
        "colab": {
          "base_uri": "https://localhost:8080/",
          "height": 366
        },
        "outputId": "ff231814-4a12-415c-8014-8d85d91afc26"
      },
      "source": [
        "lines.head(3)"
      ],
      "execution_count": 4,
      "outputs": [
        {
          "output_type": "execute_result",
          "data": {
            "text/html": [
              "<div>\n",
              "<style scoped>\n",
              "    .dataframe tbody tr th:only-of-type {\n",
              "        vertical-align: middle;\n",
              "    }\n",
              "\n",
              "    .dataframe tbody tr th {\n",
              "        vertical-align: top;\n",
              "    }\n",
              "\n",
              "    .dataframe thead th {\n",
              "        text-align: right;\n",
              "    }\n",
              "</style>\n",
              "<table border=\"1\" class=\"dataframe\">\n",
              "  <thead>\n",
              "    <tr style=\"text-align: right;\">\n",
              "      <th></th>\n",
              "      <th>objectid</th>\n",
              "      <th>idrefliga</th>\n",
              "      <th>idrefligc</th>\n",
              "      <th>indice_lig</th>\n",
              "      <th>res_com</th>\n",
              "      <th>reseau</th>\n",
              "      <th>mode</th>\n",
              "      <th>fer</th>\n",
              "      <th>train</th>\n",
              "      <th>rer</th>\n",
              "      <th>metro</th>\n",
              "      <th>tramway</th>\n",
              "      <th>navette</th>\n",
              "      <th>val</th>\n",
              "      <th>idf</th>\n",
              "      <th>extcode</th>\n",
              "      <th>shape_leng</th>\n",
              "      <th>id_fmt_tem</th>\n",
              "      <th>geometry</th>\n",
              "    </tr>\n",
              "  </thead>\n",
              "  <tbody>\n",
              "    <tr>\n",
              "      <th>0</th>\n",
              "      <td>1.0</td>\n",
              "      <td>A01761</td>\n",
              "      <td>C01843</td>\n",
              "      <td>4</td>\n",
              "      <td>T4</td>\n",
              "      <td>TRAMWAY</td>\n",
              "      <td>Tramway</td>\n",
              "      <td>0.0</td>\n",
              "      <td>0.0</td>\n",
              "      <td>0.0</td>\n",
              "      <td>0.0</td>\n",
              "      <td>1.0</td>\n",
              "      <td>0.0</td>\n",
              "      <td>0.0</td>\n",
              "      <td>1.0</td>\n",
              "      <td>800:T4</td>\n",
              "      <td>565.011859</td>\n",
              "      <td>89 - T4 - 996</td>\n",
              "      <td>LINESTRING (2.48035 48.89405, 2.48369 48.89357...</td>\n",
              "    </tr>\n",
              "    <tr>\n",
              "      <th>1</th>\n",
              "      <td>5.0</td>\n",
              "      <td>A01761</td>\n",
              "      <td>C01843</td>\n",
              "      <td>4</td>\n",
              "      <td>T4</td>\n",
              "      <td>TRAMWAY</td>\n",
              "      <td>Tramway</td>\n",
              "      <td>0.0</td>\n",
              "      <td>0.0</td>\n",
              "      <td>0.0</td>\n",
              "      <td>0.0</td>\n",
              "      <td>1.0</td>\n",
              "      <td>0.0</td>\n",
              "      <td>0.0</td>\n",
              "      <td>1.0</td>\n",
              "      <td>800:T4</td>\n",
              "      <td>678.653166</td>\n",
              "      <td>995 - T4 - 407</td>\n",
              "      <td>LINESTRING (2.51506 48.91610, 2.51479 48.91695...</td>\n",
              "    </tr>\n",
              "    <tr>\n",
              "      <th>2</th>\n",
              "      <td>12.0</td>\n",
              "      <td>A01857</td>\n",
              "      <td>C01743</td>\n",
              "      <td>B</td>\n",
              "      <td>RER B</td>\n",
              "      <td>RER B</td>\n",
              "      <td>RER</td>\n",
              "      <td>1.0</td>\n",
              "      <td>0.0</td>\n",
              "      <td>1.0</td>\n",
              "      <td>0.0</td>\n",
              "      <td>0.0</td>\n",
              "      <td>0.0</td>\n",
              "      <td>0.0</td>\n",
              "      <td>1.0</td>\n",
              "      <td>810:B</td>\n",
              "      <td>1174.125512</td>\n",
              "      <td>102 - RER B - 790</td>\n",
              "      <td>LINESTRING (2.29765 48.78136, 2.29797 48.78127...</td>\n",
              "    </tr>\n",
              "  </tbody>\n",
              "</table>\n",
              "</div>"
            ],
            "text/plain": [
              "   objectid  ...                                           geometry\n",
              "0       1.0  ...  LINESTRING (2.48035 48.89405, 2.48369 48.89357...\n",
              "1       5.0  ...  LINESTRING (2.51506 48.91610, 2.51479 48.91695...\n",
              "2      12.0  ...  LINESTRING (2.29765 48.78136, 2.29797 48.78127...\n",
              "\n",
              "[3 rows x 19 columns]"
            ]
          },
          "metadata": {
            "tags": []
          },
          "execution_count": 4
        }
      ]
    },
    {
      "cell_type": "code",
      "metadata": {
        "id": "9vlSULbMkBws",
        "colab_type": "code",
        "colab": {
          "base_uri": "https://localhost:8080/",
          "height": 204
        },
        "outputId": "6b76f506-36f3-4a91-969e-a03f69804816"
      },
      "source": [
        "rera = lines[lines.res_com=='RER A'][['objectid', 'geometry']].reset_index(drop = True)\n",
        "rera['objectid'] = rera['objectid'].astype(int).astype(str)\n",
        "rera.head()"
      ],
      "execution_count": 41,
      "outputs": [
        {
          "output_type": "execute_result",
          "data": {
            "text/html": [
              "<div>\n",
              "<style scoped>\n",
              "    .dataframe tbody tr th:only-of-type {\n",
              "        vertical-align: middle;\n",
              "    }\n",
              "\n",
              "    .dataframe tbody tr th {\n",
              "        vertical-align: top;\n",
              "    }\n",
              "\n",
              "    .dataframe thead th {\n",
              "        text-align: right;\n",
              "    }\n",
              "</style>\n",
              "<table border=\"1\" class=\"dataframe\">\n",
              "  <thead>\n",
              "    <tr style=\"text-align: right;\">\n",
              "      <th></th>\n",
              "      <th>objectid</th>\n",
              "      <th>geometry</th>\n",
              "    </tr>\n",
              "  </thead>\n",
              "  <tbody>\n",
              "    <tr>\n",
              "      <th>0</th>\n",
              "      <td>325</td>\n",
              "      <td>LINESTRING (2.07831 49.01413, 2.07834 49.01391...</td>\n",
              "    </tr>\n",
              "    <tr>\n",
              "      <th>1</th>\n",
              "      <td>369</td>\n",
              "      <td>LINESTRING (2.29449 48.87424, 2.29398 48.87430...</td>\n",
              "    </tr>\n",
              "    <tr>\n",
              "      <th>2</th>\n",
              "      <td>373</td>\n",
              "      <td>LINESTRING (2.12212 48.89797, 2.12189 48.89827...</td>\n",
              "    </tr>\n",
              "    <tr>\n",
              "      <th>3</th>\n",
              "      <td>375</td>\n",
              "      <td>LINESTRING (2.15590 48.88521, 2.15580 48.88521...</td>\n",
              "    </tr>\n",
              "    <tr>\n",
              "      <th>4</th>\n",
              "      <td>378</td>\n",
              "      <td>LINESTRING (2.04107 48.93327, 2.04567 48.93530...</td>\n",
              "    </tr>\n",
              "  </tbody>\n",
              "</table>\n",
              "</div>"
            ],
            "text/plain": [
              "  objectid                                           geometry\n",
              "0      325  LINESTRING (2.07831 49.01413, 2.07834 49.01391...\n",
              "1      369  LINESTRING (2.29449 48.87424, 2.29398 48.87430...\n",
              "2      373  LINESTRING (2.12212 48.89797, 2.12189 48.89827...\n",
              "3      375  LINESTRING (2.15590 48.88521, 2.15580 48.88521...\n",
              "4      378  LINESTRING (2.04107 48.93327, 2.04567 48.93530..."
            ]
          },
          "metadata": {
            "tags": []
          },
          "execution_count": 41
        }
      ]
    },
    {
      "cell_type": "markdown",
      "metadata": {
        "id": "U5jHQMvWZ_M8",
        "colab_type": "text"
      },
      "source": [
        "### Plot traces ###"
      ]
    },
    {
      "cell_type": "code",
      "metadata": {
        "id": "IxzBR_CaQiIc",
        "colab_type": "code",
        "colab": {
          "base_uri": "https://localhost:8080/",
          "height": 298
        },
        "outputId": "9f3e09bc-3c80-4ada-86f4-f4dbf4da29a8"
      },
      "source": [
        "idf_plot = lines.plot()\n",
        "idf_plot.set_title(\"IDF Lines\")"
      ],
      "execution_count": 5,
      "outputs": [
        {
          "output_type": "execute_result",
          "data": {
            "text/plain": [
              "Text(0.5, 1.0, 'IDF Lines')"
            ]
          },
          "metadata": {
            "tags": []
          },
          "execution_count": 5
        },
        {
          "output_type": "display_data",
          "data": {
            "image/png": "[encoded data removed]",
            "text/plain": [
              "<Figure size 432x288 with 1 Axes>"
            ]
          },
          "metadata": {
            "tags": [],
            "needs_background": "light"
          }
        }
      ]
    },
    {
      "cell_type": "code",
      "metadata": {
        "id": "VTLxe5IwQuP-",
        "colab_type": "code",
        "colab": {
          "base_uri": "https://localhost:8080/",
          "height": 278
        },
        "outputId": "48c65d90-59c0-4391-eed5-d913a61ba657"
      },
      "source": [
        "rera_plot = rera.plot()\n",
        "rera_plot.set_title(\"RER A\")"
      ],
      "execution_count": 6,
      "outputs": [
        {
          "output_type": "execute_result",
          "data": {
            "text/plain": [
              "Text(0.5, 1.0, 'RER A')"
            ]
          },
          "metadata": {
            "tags": []
          },
          "execution_count": 6
        },
        {
          "output_type": "display_data",
          "data": {
            "image/png": "[encoded data removed]",
            "text/plain": [
              "<Figure size 432x288 with 1 Axes>"
            ]
          },
          "metadata": {
            "tags": [],
            "needs_background": "light"
          }
        }
      ]
    },
    {
      "cell_type": "code",
      "metadata": {
        "id": "puqwUJWfSVl6",
        "colab_type": "code",
        "colab": {
          "base_uri": "https://localhost:8080/",
          "height": 68
        },
        "outputId": "d4353c89-35a8-4f7f-8daf-4fe12e8e470d"
      },
      "source": [
        "print('Objects :')\n",
        "print(rera['geometry'].apply(lambda x : str(x).split(' ')[0]).unique()[0])\n",
        "print('number of Objects:', len(rera['geometry']))"
      ],
      "execution_count": 7,
      "outputs": [
        {
          "output_type": "stream",
          "text": [
            "Objects :\n",
            "LINESTRING\n",
            "number of Objects: 50\n"
          ],
          "name": "stdout"
        }
      ]
    },
    {
      "cell_type": "code",
      "metadata": {
        "id": "U_wrYJtEX_kh",
        "colab_type": "code",
        "colab": {
          "base_uri": "https://localhost:8080/",
          "height": 278
        },
        "outputId": "3eb14ae5-ca7f-49bb-d87a-1e947a392439"
      },
      "source": [
        "rera_plot2 = rera.plot(column='objectid', cmap=\"hsv\")\n",
        "rera_plot2.set_title(\"RER A : stringlines differentiated\")"
      ],
      "execution_count": 42,
      "outputs": [
        {
          "output_type": "execute_result",
          "data": {
            "text/plain": [
              "Text(0.5, 1.0, 'RER A : stringlines differentiated')"
            ]
          },
          "metadata": {
            "tags": []
          },
          "execution_count": 42
        },
        {
          "output_type": "display_data",
          "data": {
            "image/png": "[encoded data removed]",
            "text/plain": [
              "<Figure size 432x288 with 1 Axes>"
            ]
          },
          "metadata": {
            "tags": [],
            "needs_background": "light"
          }
        }
      ]
    },
    {
      "cell_type": "code",
      "metadata": {
        "id": "xQBN8flZik03",
        "colab_type": "code",
        "colab": {
          "base_uri": "https://localhost:8080/",
          "height": 308
        },
        "outputId": "a8b94aff-8e39-43ae-938d-3f75e72b205e"
      },
      "source": [
        "notredame_point = Point(2.350034, 48.852948)\n",
        "d = {'objectid' : 'testPoint', 'geometry': [notredame_point]}\n",
        "testPoint = gpd.GeoDataFrame(d, crs=\"EPSG:4326\")\n",
        "testPoint.append(rera).plot(column='objectid', cmap=\"hsv\")\n",
        "testPoint"
      ],
      "execution_count": 68,
      "outputs": [
        {
          "output_type": "execute_result",
          "data": {
            "text/html": [
              "<div>\n",
              "<style scoped>\n",
              "    .dataframe tbody tr th:only-of-type {\n",
              "        vertical-align: middle;\n",
              "    }\n",
              "\n",
              "    .dataframe tbody tr th {\n",
              "        vertical-align: top;\n",
              "    }\n",
              "\n",
              "    .dataframe thead th {\n",
              "        text-align: right;\n",
              "    }\n",
              "</style>\n",
              "<table border=\"1\" class=\"dataframe\">\n",
              "  <thead>\n",
              "    <tr style=\"text-align: right;\">\n",
              "      <th></th>\n",
              "      <th>objectid</th>\n",
              "      <th>geometry</th>\n",
              "    </tr>\n",
              "  </thead>\n",
              "  <tbody>\n",
              "    <tr>\n",
              "      <th>0</th>\n",
              "      <td>testPoint</td>\n",
              "      <td>POINT (2.35003 48.85295)</td>\n",
              "    </tr>\n",
              "  </tbody>\n",
              "</table>\n",
              "</div>"
            ],
            "text/plain": [
              "    objectid                  geometry\n",
              "0  testPoint  POINT (2.35003 48.85295)"
            ]
          },
          "metadata": {
            "tags": []
          },
          "execution_count": 68
        },
        {
          "output_type": "display_data",
          "data": {
            "image/png": "[encoded data removed]",
            "text/plain": [
              "<Figure size 432x288 with 1 Axes>"
            ]
          },
          "metadata": {
            "tags": [],
            "needs_background": "light"
          }
        }
      ]
    },
    {
      "cell_type": "markdown",
      "metadata": {
        "id": "KuMvobymaLG5",
        "colab_type": "text"
      },
      "source": [
        "### Calculate distance to traces ###"
      ]
    },
    {
      "cell_type": "code",
      "metadata": {
        "id": "ac1LQ4a8azup",
        "colab_type": "code",
        "colab": {
          "base_uri": "https://localhost:8080/",
          "height": 34
        },
        "outputId": "a88a43be-d593-4d80-9084-72a184beff5a"
      },
      "source": [
        "def distance_PointToTraces(myPoint, myTraces):\n",
        "    nbTraces = len(myTraces)\n",
        "    d = {myTraces.columns[0] : [\"myPoint\"]*nbTraces, 'geometry': [myPoint]*nbTraces}\n",
        "    dfTestPoint = gpd.GeoDataFrame(d, crs=\"EPSG:4326\")\n",
        "    distances = dfTestPoint.to_crs(epsg=3310).distance(myTraces.to_crs(epsg=3310))\n",
        "    minDistance = min(distances)\n",
        "    closestTrace = myTraces['geometry'].iloc[distances.idxmin()]\n",
        "    return (closestTrace, minDistance)\n",
        "closestTrace = distance_PointToTraces(notredame_point, rera)\n",
        "closestTrace"
      ],
      "execution_count": 142,
      "outputs": [
        {
          "output_type": "execute_result",
          "data": {
            "text/plain": [
              "(<shapely.geometry.linestring.LineString at 0x7fead0576470>, 389.8602612700714)"
            ]
          },
          "metadata": {
            "tags": []
          },
          "execution_count": 142
        }
      ]
    },
    {
      "cell_type": "code",
      "metadata": {
        "id": "-BqiTEbAtqIU",
        "colab_type": "code",
        "colab": {}
      },
      "source": [
        "def closestPoint_inTrace(myPoint, myTrace):\n",
        "    p = {'geometry' : [Point(x) for x in myTrace.coords]}\n",
        "    dfLinePoints = gpd.GeoDataFrame(p, crs=\"EPSG:4326\" )\n",
        "    nbPoints = len(dfLinePoints)\n",
        "    d = {'geometry': [myPoint]*nbPoints}\n",
        "    dfTestPoint = gpd.GeoDataFrame(d, crs=\"EPSG:4326\")\n",
        "    distances = dfTestPoint.to_crs(epsg=3310).distance(dfLinePoints.to_crs(epsg=3310))\n",
        "    minDistance = min(distances)\n",
        "    closestPoint = dfLinePoints['geometry'].iloc[distances.idxmin()]\n",
        "    return (closestPoint, minDistance)\n",
        "closestPoint = closestPoint_inTrace(notredame_point, closestTrace[0])"
      ],
      "execution_count": 146,
      "outputs": []
    },
    {
      "cell_type": "code",
      "metadata": {
        "id": "qCBk6Ze2mZ2g",
        "colab_type": "code",
        "colab": {
          "base_uri": "https://localhost:8080/",
          "height": 717
        },
        "outputId": "af978b8f-4492-4418-d9fb-7b09daf14146"
      },
      "source": [
        "#rera_plot3 = rera.plot(figsize=(18, 12), color=\"Gray\")\n",
        "rera_plot3 = gpd.GeoSeries(closestTrace[0]).plot(figsize=(18, 12), color=\"Gray\")\n",
        "gpd.GeoSeries(closestTrace[0]).plot(ax = rera_plot3, color = \"Green\")\n",
        "gpd.GeoSeries(closestPoint[0]).plot(ax = rera_plot3, color = \"Blue\")\n",
        "#rera.iloc[distances.idxmin():distances.idxmin()+1].plot(ax=rera_plot3,  color=\"Green\")\n",
        "testPoint.plot(ax=rera_plot3, color = \"Red\")"
      ],
      "execution_count": 154,
      "outputs": [
        {
          "output_type": "execute_result",
          "data": {
            "text/plain": [
              "<matplotlib.axes._subplots.AxesSubplot at 0x7feac3cc56d8>"
            ]
          },
          "metadata": {
            "tags": []
          },
          "execution_count": 154
        },
        {
          "output_type": "display_data",
          "data": {
            "image/png": "[encoded data removed]",
            "text/plain": [
              "<Figure size 1296x864 with 1 Axes>"
            ]
          },
          "metadata": {
            "tags": [],
            "needs_background": "light"
          }
        }
      ]
    },
    {
      "cell_type": "markdown",
      "metadata": {
        "id": "GtveHQ012SXB",
        "colab_type": "text"
      },
      "source": [
        "### *The buffer method may be useful too* ###"
      ]
    }
  ]
}