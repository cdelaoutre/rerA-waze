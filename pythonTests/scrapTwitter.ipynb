{
  "nbformat": 4,
  "nbformat_minor": 0,
  "metadata": {
    "colab": {
      "name": "scrapTwitter.ipynb",
      "provenance": [],
      "collapsed_sections": [],
      "toc_visible": true,
      "authorship_tag": "ABX9TyO7Gpd5Qf8rHv5x+pFKrPSz",
      "include_colab_link": true
    },
    "kernelspec": {
      "name": "python3",
      "display_name": "Python 3"
    }
  },
  "cells": [
    {
      "cell_type": "markdown",
      "metadata": {
        "id": "view-in-github",
        "colab_type": "text"
      },
      "source": [
        "<a href=\"https://colab.research.google.com/github/cdelaoutre/rerA-waze/blob/master/pythonTests/scrapTwitter.ipynb\" target=\"_parent\"><img src=\"https://colab.research.google.com/assets/colab-badge.svg\" alt=\"Open In Colab\"/></a>"
      ]
    },
    {
      "cell_type": "markdown",
      "metadata": {
        "id": "rKeQBH0wVUQq",
        "colab_type": "text"
      },
      "source": [
        "### Imports ###"
      ]
    },
    {
      "cell_type": "code",
      "metadata": {
        "id": "2S1ZpeDmM8Xe",
        "colab_type": "code",
        "colab": {
          "base_uri": "https://localhost:8080/",
          "height": 207
        },
        "outputId": "2c448090-8e5e-4ab8-8f6d-6040a66722d9"
      },
      "source": [
        "!pip install tweepy\n",
        "import tweepy\n",
        "import json\n",
        "import pprint\n",
        "import datetime as dt\n",
        "import pandas as pd"
      ],
      "execution_count": 1,
      "outputs": [
        {
          "output_type": "stream",
          "text": [
            "Requirement already satisfied: tweepy in /usr/local/lib/python3.6/dist-packages (3.6.0)\n",
            "Requirement already satisfied: requests-oauthlib>=0.7.0 in /usr/local/lib/python3.6/dist-packages (from tweepy) (1.3.0)\n",
            "Requirement already satisfied: PySocks>=1.5.7 in /usr/local/lib/python3.6/dist-packages (from tweepy) (1.7.1)\n",
            "Requirement already satisfied: requests>=2.11.1 in /usr/local/lib/python3.6/dist-packages (from tweepy) (2.23.0)\n",
            "Requirement already satisfied: six>=1.10.0 in /usr/local/lib/python3.6/dist-packages (from tweepy) (1.15.0)\n",
            "Requirement already satisfied: oauthlib>=3.0.0 in /usr/local/lib/python3.6/dist-packages (from requests-oauthlib>=0.7.0->tweepy) (3.1.0)\n",
            "Requirement already satisfied: urllib3!=1.25.0,!=1.25.1,<1.26,>=1.21.1 in /usr/local/lib/python3.6/dist-packages (from requests>=2.11.1->tweepy) (1.24.3)\n",
            "Requirement already satisfied: idna<3,>=2.5 in /usr/local/lib/python3.6/dist-packages (from requests>=2.11.1->tweepy) (2.10)\n",
            "Requirement already satisfied: chardet<4,>=3.0.2 in /usr/local/lib/python3.6/dist-packages (from requests>=2.11.1->tweepy) (3.0.4)\n",
            "Requirement already satisfied: certifi>=2017.4.17 in /usr/local/lib/python3.6/dist-packages (from requests>=2.11.1->tweepy) (2020.6.20)\n"
          ],
          "name": "stdout"
        }
      ]
    },
    {
      "cell_type": "markdown",
      "metadata": {
        "id": "Vx1js0xCKAzG",
        "colab_type": "text"
      },
      "source": [
        "### Connection to Twitter API ###"
      ]
    },
    {
      "cell_type": "markdown",
      "metadata": {
        "id": "bCs3koqzVYha",
        "colab_type": "text"
      },
      "source": [
        "*Twitter API Connection Infos manually loaded*"
      ]
    },
    {
      "cell_type": "code",
      "metadata": {
        "id": "BFpYu4eSNsIL",
        "colab_type": "code",
        "colab": {}
      },
      "source": [
        "def connectTweeterApi(twitterInfos):\n",
        "    # Load Twitter API secrets from an external JSON file\n",
        "    with open(twitterInfos, \"r\") as read_file:\n",
        "        connInfos = json.load(read_file)\n",
        "\n",
        "    api_key = connInfos['twitter_key']\n",
        "    api_secret_key = connInfos['twitter_secret']\n",
        "    access_token = connInfos['twitter_accessToken']\n",
        "    access_token_secret = connInfos['twitter_accessTokenSecret']\n",
        "    # Connect to Twitter API using the secrets\n",
        "    auth = tweepy.OAuthHandler(api_key, api_secret_key)\n",
        "    auth.set_access_token(access_token, access_token_secret)\n",
        "    twitterAPI = tweepy.API(auth)\n",
        "    return twitterAPI\n",
        "twitterAPI = connectTweeterApi(\"twitterInfos.json\")"
      ],
      "execution_count": 2,
      "outputs": []
    },
    {
      "cell_type": "markdown",
      "metadata": {
        "id": "BAKq7sJZKLET",
        "colab_type": "text"
      },
      "source": [
        "### General information about the targeted account ###"
      ]
    },
    {
      "cell_type": "code",
      "metadata": {
        "id": "q4uzT4y_1ruM",
        "colab_type": "code",
        "colab": {}
      },
      "source": [
        "target = 'RER_A'\n",
        "scrappedAccount = twitterAPI.get_user(target)\n",
        "#pprint.pprint(user._json)"
      ],
      "execution_count": 3,
      "outputs": []
    },
    {
      "cell_type": "code",
      "metadata": {
        "id": "ZemHeN11h49K",
        "colab_type": "code",
        "colab": {
          "base_uri": "https://localhost:8080/",
          "height": 139
        },
        "outputId": "12a6799c-c1d7-4694-c11b-e4407d815757"
      },
      "source": [
        "print(\"name: \" + scrappedAccount.name)\n",
        "print(\"screen_name: \" + scrappedAccount.screen_name)\n",
        "print(\"description: \" + scrappedAccount.description)\n",
        "print(\"statuses_count: \" + str(scrappedAccount.statuses_count))\n",
        "print(\"friends_count: \" + str(scrappedAccount.friends_count))\n",
        "print(\"followers_count: \" + str(scrappedAccount.followers_count))"
      ],
      "execution_count": 4,
      "outputs": [
        {
          "output_type": "stream",
          "text": [
            "name: RER A\n",
            "screen_name: RER_A\n",
            "description: Bienvenue sur le compte du #RERA ! Suivez le trafic en temps réel, la vie et les coulisses de votre ligne. Avec vous 5j/7 de 6h à 20h.\n",
            "statuses_count: 78996\n",
            "friends_count: 92\n",
            "followers_count: 158016\n"
          ],
          "name": "stdout"
        }
      ]
    },
    {
      "cell_type": "code",
      "metadata": {
        "id": "a24TF7IHmScw",
        "colab_type": "code",
        "colab": {
          "base_uri": "https://localhost:8080/",
          "height": 51
        },
        "outputId": "6493f03c-0e57-460d-e82b-8d0a9ce15c1d"
      },
      "source": [
        "tweets = scrappedAccount.statuses_count\n",
        "account_created_date = scrappedAccount.created_at\n",
        "delta = dt.datetime.utcnow() - account_created_date\n",
        "account_age_days = delta.days\n",
        "print(\"Account age (in days): \" + str(account_age_days))\n",
        "if account_age_days > 0:\n",
        "    print(\"Average tweets per day: \" + \"%.2f\"%(float(tweets)/float(account_age_days)))"
      ],
      "execution_count": 5,
      "outputs": [
        {
          "output_type": "stream",
          "text": [
            "Account age (in days): 2938\n",
            "Average tweets per day: 26.89\n"
          ],
          "name": "stdout"
        }
      ]
    },
    {
      "cell_type": "markdown",
      "metadata": {
        "id": "ypC9NuCmKR47",
        "colab_type": "text"
      },
      "source": [
        "### Scrap tweets & dates from targeted account ###"
      ]
    },
    {
      "cell_type": "code",
      "metadata": {
        "id": "ej3ZF9lsC50-",
        "colab_type": "code",
        "colab": {}
      },
      "source": [
        "def scrapTweet(tweet, end_date, dest):\n",
        "    #Stop when max date is reached\n",
        "    if tweet.created_at < end_date:\n",
        "        return \"Tweet out of date range\"\n",
        "    #Check if its an answer to exclude it\n",
        "    if hasattr(tweet, 'entities'):\n",
        "        if 'user_mentions' in tweet.entities.keys():\n",
        "            if len(tweet.entities['user_mentions']) > 0:\n",
        "                return \"Answer identified\"\n",
        "    #Grab the Tweet\n",
        "    if hasattr(tweet, 'text'):\n",
        "        dest['Tweet'].append(tweet.text)\n",
        "        #Grab the date (if parsable, else None)\n",
        "        if hasattr(tweet, 'created_at'):\n",
        "            dest['Date'].append(tweet.created_at)\n",
        "\n",
        "def limit_handled(cursor):\n",
        "    while True:\n",
        "        try:\n",
        "            yield cursor.next()\n",
        "        except tweepy.RateLimitError:\n",
        "            time.sleep(15 * 60)"
      ],
      "execution_count": 14,
      "outputs": []
    },
    {
      "cell_type": "code",
      "metadata": {
        "id": "jhm0SAdotlTc",
        "colab_type": "code",
        "colab": {
          "base_uri": "https://localhost:8080/",
          "height": 71
        },
        "outputId": "e1ce0316-4c83-4971-d390-7423aae98d32"
      },
      "source": [
        "scrappedTweets ={\n",
        "    'Date' : [],\n",
        "    'Tweet' : []\n",
        "}\n",
        "end_date = dt.datetime.utcnow() - dt.timedelta(days=365)\n",
        "for tweet in limit_handled(tweepy.Cursor(twitterAPI.user_timeline, id=target).items()):\n",
        "    scrapTweet(tweet, end_date, scrappedTweets)"
      ],
      "execution_count": 15,
      "outputs": [
        {
          "output_type": "stream",
          "text": [
            "/usr/local/lib/python3.6/dist-packages/ipykernel_launcher.py:6: DeprecationWarning: generator 'limit_handled' raised StopIteration\n",
            "  \n"
          ],
          "name": "stderr"
        }
      ]
    },
    {
      "cell_type": "code",
      "metadata": {
        "id": "Pgs_qbgOHSBF",
        "colab_type": "code",
        "colab": {
          "base_uri": "https://localhost:8080/",
          "height": 374
        },
        "outputId": "c68eb5e2-55bd-4690-9b47-214b06bcc556"
      },
      "source": [
        "myTweets = pd.DataFrame(scrappedTweets)\n",
        "print(myTweets.info())\n",
        "myTweets.head()"
      ],
      "execution_count": 17,
      "outputs": [
        {
          "output_type": "stream",
          "text": [
            "<class 'pandas.core.frame.DataFrame'>\n",
            "RangeIndex: 782 entries, 0 to 781\n",
            "Data columns (total 2 columns):\n",
            " #   Column  Non-Null Count  Dtype         \n",
            "---  ------  --------------  -----         \n",
            " 0   Tweet   782 non-null    object        \n",
            " 1   Date    782 non-null    datetime64[ns]\n",
            "dtypes: datetime64[ns](1), object(1)\n",
            "memory usage: 12.3+ KB\n",
            "None\n"
          ],
          "name": "stdout"
        },
        {
          "output_type": "execute_result",
          "data": {
            "text/html": [
              "<div>\n",
              "<style scoped>\n",
              "    .dataframe tbody tr th:only-of-type {\n",
              "        vertical-align: middle;\n",
              "    }\n",
              "\n",
              "    .dataframe tbody tr th {\n",
              "        vertical-align: top;\n",
              "    }\n",
              "\n",
              "    .dataframe thead th {\n",
              "        text-align: right;\n",
              "    }\n",
              "</style>\n",
              "<table border=\"1\" class=\"dataframe\">\n",
              "  <thead>\n",
              "    <tr style=\"text-align: right;\">\n",
              "      <th></th>\n",
              "      <th>Tweet</th>\n",
              "      <th>Date</th>\n",
              "    </tr>\n",
              "  </thead>\n",
              "  <tbody>\n",
              "    <tr>\n",
              "      <th>0</th>\n",
              "      <td>✅ Le trafic est rétabli de Auber à Marne-la-Va...</td>\n",
              "      <td>2020-09-17 08:05:07</td>\n",
              "    </tr>\n",
              "    <tr>\n",
              "      <th>1</th>\n",
              "      <td>⚠️ Le trafic est perturbé de Auber à Marne-la-...</td>\n",
              "      <td>2020-09-17 07:37:40</td>\n",
              "    </tr>\n",
              "    <tr>\n",
              "      <th>2</th>\n",
              "      <td>✅ Le trafic est rétabli de Saint-Germain-en-La...</td>\n",
              "      <td>2020-09-17 07:13:41</td>\n",
              "    </tr>\n",
              "    <tr>\n",
              "      <th>3</th>\n",
              "      <td>⚠️ Le trafic est perturbé de Saint-Germain-en-...</td>\n",
              "      <td>2020-09-17 06:12:20</td>\n",
              "    </tr>\n",
              "    <tr>\n",
              "      <th>4</th>\n",
              "      <td>[Nouvel article 🖋️] Découvrez le nouveau bille...</td>\n",
              "      <td>2020-09-17 06:00:23</td>\n",
              "    </tr>\n",
              "  </tbody>\n",
              "</table>\n",
              "</div>"
            ],
            "text/plain": [
              "                                               Tweet                Date\n",
              "0  ✅ Le trafic est rétabli de Auber à Marne-la-Va... 2020-09-17 08:05:07\n",
              "1  ⚠️ Le trafic est perturbé de Auber à Marne-la-... 2020-09-17 07:37:40\n",
              "2  ✅ Le trafic est rétabli de Saint-Germain-en-La... 2020-09-17 07:13:41\n",
              "3  ⚠️ Le trafic est perturbé de Saint-Germain-en-... 2020-09-17 06:12:20\n",
              "4  [Nouvel article 🖋️] Découvrez le nouveau bille... 2020-09-17 06:00:23"
            ]
          },
          "metadata": {
            "tags": []
          },
          "execution_count": 17
        }
      ]
    },
    {
      "cell_type": "markdown",
      "metadata": {
        "id": "uDV9XSdAKgxL",
        "colab_type": "text"
      },
      "source": [
        "### Export to CSV ###"
      ]
    },
    {
      "cell_type": "code",
      "metadata": {
        "id": "n4Br9mvMBagR",
        "colab_type": "code",
        "colab": {}
      },
      "source": [
        "myTweets.to_csv('tweets.csv')"
      ],
      "execution_count": 10,
      "outputs": []
    }
  ]
}